{
 "cells": [
  {
   "cell_type": "code",
   "execution_count": 6,
   "metadata": {
    "collapsed": true
   },
   "outputs": [],
   "source": [
    "import numpy\n",
    "import pandas\n"
   ]
  },
  {
   "cell_type": "code",
   "execution_count": 7,
   "metadata": {
    "collapsed": false
   },
   "outputs": [
    {
     "name": "stdout",
     "output_type": "stream",
     "text": [
      "                           ACLSWKR  ADTIND  ADTOCC  \\\n",
      "0                  Not in universe       0       0   \n",
      "1   Self-employed-not incorporated       4      34   \n",
      "\n",
      "                          AHGA            AHSCOL    AMARITL  \\\n",
      "0         High school graduate   Not in universe    Widowed   \n",
      "1   Some college but no degree   Not in universe   Divorced   \n",
      "\n",
      "                         AMJIND                                AMJOCC   ARACE  \\\n",
      "0   Not in universe or children                       Not in universe   White   \n",
      "1                  Construction   Precision production craft & repair   White   \n",
      "\n",
      "      AREORGN    ...     PARENT        PEFNTVTY        PEMNTVTY  \\\n",
      "0   All other    ...          0   United-States   United-States   \n",
      "1   All other    ...          1   United-States   United-States   \n",
      "\n",
      "         PENATVTY                            PRCITSHP SEOTR            VETQVA  \\\n",
      "0   United-States   Native- Born in the United States     0   Not in universe   \n",
      "1   United-States   Native- Born in the United States     0   Not in universe   \n",
      "\n",
      "  VETYN YEAR     INCOME  \n",
      "0     2   95   - 50000.  \n",
      "1     2   94   - 50000.  \n",
      "\n",
      "[2 rows x 34 columns]\n"
     ]
    }
   ],
   "source": [
    "data = pandas.read_csv(\"census/census-income1.data\")\n",
    "categorical_attributes = ['ACLSWKR','ADTIND','ADTOCC','AHGA','AHSCOL','AMARITL','AMJIND','AMJOCC','ARACE',\n",
    "                          'AREORGN','ASEX','AUNMEM','AUNTYPE','AWKSTAT','FILESTAT','GRINREG','GRINST','HHDFMX',\n",
    "                          'HHDREL','MIGMTR1','MIGMTR3','MIGMTR4','MIGSAME','MIGSUN','PARENT','PEFNTVTY',\n",
    "                          'PEMNTVTY','PENATVTY','PRCITSHP','SEOTR','VETQVA','VETYN','YEAR', 'INCOME']\n",
    "data_categorical = data.loc[:,categorical_attributes]\n",
    "print(data_categorical)"
   ]
  },
  {
   "cell_type": "code",
   "execution_count": null,
   "metadata": {
    "collapsed": true
   },
   "outputs": [],
   "source": []
  }
 ],
 "metadata": {
  "kernelspec": {
   "display_name": "Python 3",
   "language": "python",
   "name": "python3"
  },
  "language_info": {
   "codemirror_mode": {
    "name": "ipython",
    "version": 3
   },
   "file_extension": ".py",
   "mimetype": "text/x-python",
   "name": "python",
   "nbconvert_exporter": "python",
   "pygments_lexer": "ipython3",
   "version": "3.5.2"
  }
 },
 "nbformat": 4,
 "nbformat_minor": 2
}
